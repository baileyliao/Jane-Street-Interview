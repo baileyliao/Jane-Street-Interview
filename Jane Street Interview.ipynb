{
 "cells": [
  {
   "cell_type": "code",
   "execution_count": 1,
   "metadata": {
    "collapsed": true
   },
   "outputs": [],
   "source": [
    "import numpy as np\n",
    "import pandas as pd"
   ]
  },
  {
   "cell_type": "code",
   "execution_count": 48,
   "metadata": {
    "collapsed": false
   },
   "outputs": [
    {
     "data": {
      "text/html": [
       "<div>\n",
       "<table border=\"1\" class=\"dataframe\">\n",
       "  <thead>\n",
       "    <tr style=\"text-align: right;\">\n",
       "      <th></th>\n",
       "      <th>0</th>\n",
       "      <th>1</th>\n",
       "      <th>2</th>\n",
       "      <th>3</th>\n",
       "      <th>4</th>\n",
       "      <th>5</th>\n",
       "      <th>6</th>\n",
       "    </tr>\n",
       "  </thead>\n",
       "  <tbody>\n",
       "    <tr>\n",
       "      <th>0</th>\n",
       "      <td>execution time</td>\n",
       "      <td>account</td>\n",
       "      <td>direction</td>\n",
       "      <td>qty</td>\n",
       "      <td>security code</td>\n",
       "      <td>price</td>\n",
       "      <td>currency</td>\n",
       "    </tr>\n",
       "    <tr>\n",
       "      <th>1</th>\n",
       "      <td>9:30:50 AM</td>\n",
       "      <td>10047745</td>\n",
       "      <td>Buy</td>\n",
       "      <td>273</td>\n",
       "      <td>ABC US</td>\n",
       "      <td>28.05</td>\n",
       "      <td>USD</td>\n",
       "    </tr>\n",
       "    <tr>\n",
       "      <th>2</th>\n",
       "      <td>9:31:13 AM</td>\n",
       "      <td>10047745</td>\n",
       "      <td>Buy</td>\n",
       "      <td>262</td>\n",
       "      <td>ABC US</td>\n",
       "      <td>28.25</td>\n",
       "      <td>USD</td>\n",
       "    </tr>\n",
       "    <tr>\n",
       "      <th>3</th>\n",
       "      <td>9:31:20 AM</td>\n",
       "      <td>10047745</td>\n",
       "      <td>Sell_long</td>\n",
       "      <td>340</td>\n",
       "      <td>ABC US</td>\n",
       "      <td>28.43</td>\n",
       "      <td>USD</td>\n",
       "    </tr>\n",
       "    <tr>\n",
       "      <th>4</th>\n",
       "      <td>9:31:26 AM</td>\n",
       "      <td>10047745</td>\n",
       "      <td>Sell_short</td>\n",
       "      <td>209</td>\n",
       "      <td>ABC US</td>\n",
       "      <td>28.94</td>\n",
       "      <td>USD</td>\n",
       "    </tr>\n",
       "  </tbody>\n",
       "</table>\n",
       "</div>"
      ],
      "text/plain": [
       "                0         1           2      3              4      5         6\n",
       "0  execution time   account   direction   qty   security code  price  currency\n",
       "1      9:30:50 AM  10047745         Buy    273         ABC US  28.05       USD\n",
       "2      9:31:13 AM  10047745         Buy    262         ABC US  28.25       USD\n",
       "3      9:31:20 AM  10047745   Sell_long    340         ABC US  28.43       USD\n",
       "4      9:31:26 AM  10047745  Sell_short    209         ABC US  28.94       USD"
      ]
     },
     "execution_count": 48,
     "metadata": {},
     "output_type": "execute_result"
    }
   ],
   "source": [
    "#Load the data\n",
    "data = pd.read_csv('OrderMarkingExercise.txt', delimiter='\\t', header=None)\n",
    "#Check out the data - sanity check\n",
    "data.head()"
   ]
  },
  {
   "cell_type": "code",
   "execution_count": 94,
   "metadata": {
    "collapsed": false
   },
   "outputs": [],
   "source": [
    "#Here I created a list of the net share value after each transaction. If it is negative the then it should be sell_short.\n",
    "\n",
    "shares = 0\n",
    "sharelist = []\n",
    "for i in range(len(data)-1):\n",
    "    if (data[2].iloc[i+1] == 'Buy'):\n",
    "        shares = shares + float(data[3].iloc[i+1])\n",
    "        sharelist.append(shares)\n",
    "    else:\n",
    "        shares = shares - float(data[3].iloc[i+1])\n",
    "        sharelist.append(shares)\n"
   ]
  },
  {
   "cell_type": "markdown",
   "metadata": {},
   "source": [
    "Next I figure out what index correlates with a wrong transaction. The index I am using is based off the sharelist which starts at 0 for the first transaction. The data index is 1 off since 0 index is the title of the columns(i.e qty, direction). This is why the code has .iloc[i+1] instead of i."
   ]
  },
  {
   "cell_type": "code",
   "execution_count": 93,
   "metadata": {
    "collapsed": false
   },
   "outputs": [
    {
     "name": "stdout",
     "output_type": "stream",
     "text": [
      "[93, 258, 336, 337, 338, 422, 503, 672, 768, 796, 880, 881, 1291, 1300, 1302, 1398, 1430, 1431, 1432]\n"
     ]
    }
   ],
   "source": [
    "index = []\n",
    "for i in range(len(sharelist)):\n",
    "    if (sharelist[i] < 0) & (data[2].iloc[i+1] == 'Sell_long') or (sharelist[i] >= 0) & (data[2].iloc[i+1] == 'Sell_short'):\n",
    "        index.append(i)\n",
    "print index"
   ]
  },
  {
   "cell_type": "code",
   "execution_count": 99,
   "metadata": {
    "collapsed": false
   },
   "outputs": [
    {
     "name": "stdout",
     "output_type": "stream",
     "text": [
      "9:54:02 AM\n",
      "10:35:05 AM\n",
      "10:57:24 AM\n",
      "10:57:42 AM\n",
      "10:57:44 AM\n",
      "11:17:17 AM\n",
      "11:38:21 AM\n",
      "12:28:17 PM\n",
      "12:57:55 PM\n",
      "1:06:02 PM\n",
      "1:31:05 PM\n",
      "1:31:20 PM\n",
      "3:20:18 PM\n",
      "3:24:36 PM\n",
      "3:24:49 PM\n",
      "3:50:29 PM\n",
      "3:58:29 PM\n",
      "3:58:56 PM\n",
      "3:59:35 PM\n"
     ]
    }
   ],
   "source": [
    "for i in range(len(index)):\n",
    "    print data[0].iloc[index[i]]"
   ]
  },
  {
   "cell_type": "code",
   "execution_count": null,
   "metadata": {
    "collapsed": true
   },
   "outputs": [],
   "source": []
  }
 ],
 "metadata": {
  "anaconda-cloud": {},
  "kernelspec": {
   "display_name": "Python [Root]",
   "language": "python",
   "name": "Python [Root]"
  },
  "language_info": {
   "codemirror_mode": {
    "name": "ipython",
    "version": 2
   },
   "file_extension": ".py",
   "mimetype": "text/x-python",
   "name": "python",
   "nbconvert_exporter": "python",
   "pygments_lexer": "ipython2",
   "version": "2.7.12"
  }
 },
 "nbformat": 4,
 "nbformat_minor": 0
}
